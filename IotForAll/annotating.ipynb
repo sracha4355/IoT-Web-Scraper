{
 "cells": [
  {
   "cell_type": "code",
   "execution_count": 1,
   "metadata": {},
   "outputs": [],
   "source": [
    "import json\n",
    "import os\n",
    "import random\n",
    "import nltk\n",
    "from nltk import sent_tokenize\n",
    "from spacy.tokenizer import Tokenizer\n",
    "from spacy.lang.en import English"
   ]
  },
  {
   "cell_type": "code",
   "execution_count": 2,
   "metadata": {},
   "outputs": [
    {
     "name": "stderr",
     "output_type": "stream",
     "text": [
      "[nltk_data] Downloading package punkt_tab to\n",
      "[nltk_data]     C:\\Users\\srach\\AppData\\Roaming\\nltk_data...\n",
      "[nltk_data]   Package punkt_tab is already up-to-date!\n"
     ]
    }
   ],
   "source": [
    "nltk.download('punkt_tab')\n",
    "\n",
    "from spacy.tokenizer import Tokenizer\n",
    "from spacy.lang.en import English\n",
    "nlp = English()\n",
    "# Create a blank Tokenizer with just the English vocab\n",
    "tokenizer = Tokenizer(nlp.vocab)"
   ]
  },
  {
   "cell_type": "code",
   "execution_count": 3,
   "metadata": {},
   "outputs": [
    {
     "name": "stdout",
     "output_type": "stream",
     "text": [
      "c:\\Users\\srach\\Projects\\IoTNER\\IoT-Web-Scraper\\IotForAll/../scraped-data/sentences.json\n"
     ]
    }
   ],
   "source": [
    "file = f'{os.getcwd()}/../scraped-data/sentences.json'\n",
    "print(file)\n",
    "unannotated_corpus = None\n",
    "with open(file, 'r') as file:\n",
    "    unannotated_corpus = json.loads(file.read())  "
   ]
  },
  {
   "cell_type": "code",
   "execution_count": null,
   "metadata": {},
   "outputs": [],
   "source": [
    "json_output_filepath = \"satvik_annotation.json\"\n",
    "output_json = f'{os.getcwd()}/../scraped-data/{json_output_filepath}'\n",
    "output_json_file = f'{os.getcwd()}/../scraped-data/{json_output_filepath}'\n",
    "with open(output_json, 'r') as file:\n",
    "    output_json = json.loads(file.read())  "
   ]
  },
  {
   "cell_type": "code",
   "execution_count": null,
   "metadata": {},
   "outputs": [
    {
     "name": "stdout",
     "output_type": "stream",
     "text": [
      "Tokenizing the sentence: This is why many facilities deploy IoT technology to streamline operations and complete predictive maintenance.\n",
      "Enter a NER category and a tag for each token (I-S, I, I-E, N) in the form category,tag. Example -> 0,N\n",
      "Here is the whole sentence for context: \n",
      "This is why many facilities deploy IoT technology to streamline operations and complete predictive maintenance.\n"
     ]
    },
    {
     "ename": "ValueError",
     "evalue": "not enough values to unpack (expected 2, got 1)",
     "output_type": "error",
     "traceback": [
      "\u001b[1;31m---------------------------------------------------------------------------\u001b[0m",
      "\u001b[1;31mValueError\u001b[0m                                Traceback (most recent call last)",
      "Cell \u001b[1;32mIn[11], line 33\u001b[0m\n\u001b[0;32m     31\u001b[0m \u001b[38;5;28;01mfor\u001b[39;00m i, token \u001b[38;5;129;01min\u001b[39;00m \u001b[38;5;28menumerate\u001b[39m(tokenized):\n\u001b[0;32m     32\u001b[0m     tag \u001b[38;5;241m=\u001b[39m \u001b[38;5;28minput\u001b[39m(\u001b[38;5;124mf\u001b[39m\u001b[38;5;124m'\u001b[39m\u001b[38;5;132;01m{\u001b[39;00mtoken\u001b[38;5;132;01m}\u001b[39;00m\u001b[38;5;124m: \u001b[39m\u001b[38;5;124m'\u001b[39m)\n\u001b[1;32m---> 33\u001b[0m     NER_category, tag \u001b[38;5;241m=\u001b[39m tag\u001b[38;5;241m.\u001b[39msplit(\u001b[38;5;124m\"\u001b[39m\u001b[38;5;124m,\u001b[39m\u001b[38;5;124m\"\u001b[39m) \n\u001b[0;32m     34\u001b[0m     NER_categories\u001b[38;5;241m.\u001b[39mappend(NER_category)\n\u001b[0;32m     35\u001b[0m     TAGS\u001b[38;5;241m.\u001b[39mappend(tag)\n",
      "\u001b[1;31mValueError\u001b[0m: not enough values to unpack (expected 2, got 1)"
     ]
    }
   ],
   "source": [
    "while True:\n",
    "    id = None\n",
    "    while True:\n",
    "        id = input(\"enter id between 1 and 836 \")\n",
    "        if id.isnumeric():\n",
    "            id = int(id)\n",
    "            break\n",
    "        else:\n",
    "            print('enter valid id')  \n",
    "\n",
    "    item = None\n",
    "    for entry in unannotated_corpus:\n",
    "        if entry[\"article_id\"] == id:\n",
    "            item = entry\n",
    "            break\n",
    "        \n",
    "    choice = 0\n",
    "    for sentence in item[\"sentences\"]:\n",
    "        print(f'current sentence: {sentence}')\n",
    "        skip = int(input(\"to skip type 0, 1 to continue\"))\n",
    "        if skip == 0:\n",
    "            continue\n",
    "        \n",
    "        sentence_id = sentence[\"sentence_id\"]\n",
    "        text = sentence[\"text\"]\n",
    "        choice = 0\n",
    "        while choice == 0:\n",
    "            print(f'Tokenizing the sentence: {text}')\n",
    "            NER_categories = []\n",
    "            TAGS = []\n",
    "            tokenized = tokenizer(text)\n",
    "            print('Enter a NER category and a tag for each token (I-S, I, I-E, N) in the form category,tag. Example -> 0,N')\n",
    "            print(f'Here is the whole sentence for context: \\n{text}')\n",
    "            for i, token in enumerate(tokenized):\n",
    "                tag = input(f'{token}: ')\n",
    "                NER_category, tag = tag.split(\",\") \n",
    "                NER_categories.append(NER_category)\n",
    "                TAGS.append(tag)\n",
    "            print('Are you satisfied with this')\n",
    "            print(f'NER_categories and TAGS for tokens: {NER_categories}')\n",
    "            print(f'{NER_categories}\\n{TAGS}')\n",
    "\n",
    "            choice = int(input(\"type 1 for good or 0 not good \"))\n",
    "            if choice == 1:\n",
    "                output_json[f'{id}-{sentence_id}'] = {\n",
    "                    \"id\": f'{id}-{sentence_id}',\n",
    "                    \"sentence\": sentence,\n",
    "                    \"NER_categories\": NER_categories,\n",
    "                    \"token_tags\": TAGS \n",
    "                }\n",
    "        choice = int(input(\"do you want to continue annotating sentences for this article, type 1 for yes, 0 for no \"))\n",
    "        if choice == 0:\n",
    "            break\n",
    "    choice = int(input(\"type 1 to keep annotating another articles sentences, 0 for no \"))\n",
    "    if choice == 0:\n",
    "        break\n",
    "\n",
    "                # write the code \n",
    "with open(output_json_file,'w') as file:\n",
    "    json.dump(output_json, file, indent=4)\n",
    "    \n",
    "    \n"
   ]
  },
  {
   "cell_type": "code",
   "execution_count": null,
   "metadata": {},
   "outputs": [],
   "source": []
  }
 ],
 "metadata": {
  "kernelspec": {
   "display_name": "myenv",
   "language": "python",
   "name": "python3"
  },
  "language_info": {
   "codemirror_mode": {
    "name": "ipython",
    "version": 3
   },
   "file_extension": ".py",
   "mimetype": "text/x-python",
   "name": "python",
   "nbconvert_exporter": "python",
   "pygments_lexer": "ipython3",
   "version": "3.12.8"
  }
 },
 "nbformat": 4,
 "nbformat_minor": 2
}
